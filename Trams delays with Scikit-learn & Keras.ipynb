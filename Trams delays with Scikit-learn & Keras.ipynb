{
 "cells": [
  {
   "cell_type": "markdown",
   "metadata": {},
   "source": [
    "# Trams delays in Cracow"
   ]
  },
  {
   "cell_type": "markdown",
   "metadata": {},
   "source": [
    "### The analysis concerns in majority usage of machine learning in this casual situation, which is public mean of transport. I won't focus on statistical approach to the issue, neither on visualizing data - this I will try to complete in the near future, in order to receive comprehensive project. The data come from someone's GitHub, where the owner focuses merely on statistics. That is why I have decided to reuse them for ML."
   ]
  },
  {
   "cell_type": "code",
   "execution_count": 1,
   "metadata": {},
   "outputs": [
    {
     "name": "stderr",
     "output_type": "stream",
     "text": [
      "Using TensorFlow backend.\n"
     ]
    }
   ],
   "source": [
    "#Import necessary libraries\n",
    "\n",
    "import pandas as pd\n",
    "import numpy as np\n",
    "import matplotlib.pyplot as plt\n",
    "import seaborn as sns\n",
    "\n",
    "from sklearn.tree import DecisionTreeRegressor\n",
    "from sklearn.ensemble import RandomForestRegressor\n",
    "from sklearn.pipeline import Pipeline, FeatureUnion\n",
    "from sklearn.preprocessing import StandardScaler, FunctionTransformer\n",
    "from sklearn.impute import SimpleImputer\n",
    "from sklearn.feature_extraction.text import CountVectorizer\n",
    "from sklearn.neighbors import KNeighborsClassifier\n",
    "from sklearn.model_selection import GridSearchCV, train_test_split, cross_val_score\n",
    "from sklearn.metrics import accuracy_score, confusion_matrix\n",
    "\n",
    "from keras.layers import Dense\n",
    "from keras.models import Sequential\n",
    "from keras.utils import to_categorical\n",
    "from keras.callbacks import EarlyStopping\n",
    "\n",
    "%matplotlib inline"
   ]
  },
  {
   "cell_type": "code",
   "execution_count": 2,
   "metadata": {},
   "outputs": [],
   "source": [
    "#Easy uploading data\n",
    "\n",
    "def reader_csv(list):\n",
    "    \"\"\" Allows for uploading data from the list \"\"\"\n",
    "    df_list = []\n",
    "    \n",
    "    for i in range(len(list)):\n",
    "        reader = pd.read_csv(list[i])\n",
    "        df_list.append(reader)\n",
    "    return df_list"
   ]
  },
  {
   "cell_type": "code",
   "execution_count": 3,
   "metadata": {},
   "outputs": [],
   "source": [
    "#Obtaining a part from whole dataset, due to time-consuming computations (when not using cloud)\n",
    "\n",
    "paths_list = ['https://raw.githubusercontent.com/aczepielik/KRKtram/master/reports/report_07-23.csv',\n",
    "              'https://raw.githubusercontent.com/aczepielik/KRKtram/master/reports/report_07-24.csv',\n",
    "              'https://raw.githubusercontent.com/aczepielik/KRKtram/master/reports/report_07-25.csv']"
   ]
  },
  {
   "cell_type": "code",
   "execution_count": 4,
   "metadata": {},
   "outputs": [
    {
     "data": {
      "text/plain": [
       "(216615, 12)"
      ]
     },
     "execution_count": 4,
     "metadata": {},
     "output_type": "execute_result"
    }
   ],
   "source": [
    "#Load data into data frames\n",
    "\n",
    "df_list = reader_csv(paths_list)\n",
    "df = pd.concat(df_list, ignore_index= True)\n",
    "df.shape"
   ]
  },
  {
   "cell_type": "code",
   "execution_count": 5,
   "metadata": {},
   "outputs": [
    {
     "name": "stdout",
     "output_type": "stream",
     "text": [
      "<class 'pandas.core.frame.DataFrame'>\n",
      "RangeIndex: 216615 entries, 0 to 216614\n",
      "Data columns (total 12 columns):\n",
      "index          216615 non-null int64\n",
      "time_stamp     216615 non-null object\n",
      "stop           216615 non-null int64\n",
      "stopName       216615 non-null object\n",
      "number         216615 non-null int64\n",
      "direction      216615 non-null object\n",
      "plannedTime    216615 non-null object\n",
      "vehicleId      190358 non-null float64\n",
      "tripId         216615 non-null int64\n",
      "status         216615 non-null object\n",
      "delay          216615 non-null int64\n",
      "seq_num        214615 non-null float64\n",
      "dtypes: float64(2), int64(5), object(5)\n",
      "memory usage: 19.8+ MB\n"
     ]
    }
   ],
   "source": [
    "#Checking if there are any 'Nans'\n",
    "\n",
    "df.info()"
   ]
  },
  {
   "cell_type": "markdown",
   "metadata": {},
   "source": [
    "##### As we may notice, some NaN values occur. To avoid inconveniences before enclosing data, we firstly fill empty places with an unique value to differentiate them from the remaining values."
   ]
  },
  {
   "cell_type": "code",
   "execution_count": 6,
   "metadata": {},
   "outputs": [
    {
     "data": {
      "text/html": [
       "<div>\n",
       "<style scoped>\n",
       "    .dataframe tbody tr th:only-of-type {\n",
       "        vertical-align: middle;\n",
       "    }\n",
       "\n",
       "    .dataframe tbody tr th {\n",
       "        vertical-align: top;\n",
       "    }\n",
       "\n",
       "    .dataframe thead th {\n",
       "        text-align: right;\n",
       "    }\n",
       "</style>\n",
       "<table border=\"1\" class=\"dataframe\">\n",
       "  <thead>\n",
       "    <tr style=\"text-align: right;\">\n",
       "      <th></th>\n",
       "      <th>index</th>\n",
       "      <th>time_stamp</th>\n",
       "      <th>stop</th>\n",
       "      <th>stopName</th>\n",
       "      <th>number</th>\n",
       "      <th>direction</th>\n",
       "      <th>plannedTime</th>\n",
       "      <th>vehicleId</th>\n",
       "      <th>tripId</th>\n",
       "      <th>status</th>\n",
       "      <th>delay</th>\n",
       "      <th>seq_num</th>\n",
       "    </tr>\n",
       "  </thead>\n",
       "  <tbody>\n",
       "    <tr>\n",
       "      <th>0</th>\n",
       "      <td>1</td>\n",
       "      <td>2018-07-23 06:00:45</td>\n",
       "      <td>378</td>\n",
       "      <td>Os.Piastów</td>\n",
       "      <td>21</td>\n",
       "      <td>Kopiec Wandy</td>\n",
       "      <td>2018-07-23 05:59:00</td>\n",
       "      <td>NaN</td>\n",
       "      <td>6351558574044883205</td>\n",
       "      <td>PLANNED</td>\n",
       "      <td>1</td>\n",
       "      <td>1.0</td>\n",
       "    </tr>\n",
       "    <tr>\n",
       "      <th>1</th>\n",
       "      <td>1</td>\n",
       "      <td>2018-07-23 06:00:47</td>\n",
       "      <td>612</td>\n",
       "      <td>Borsucza</td>\n",
       "      <td>22</td>\n",
       "      <td>Walcownia</td>\n",
       "      <td>2018-07-23 06:00:00</td>\n",
       "      <td>6.352185e+18</td>\n",
       "      <td>6351558574044899587</td>\n",
       "      <td>STOPPING</td>\n",
       "      <td>0</td>\n",
       "      <td>7.0</td>\n",
       "    </tr>\n",
       "    <tr>\n",
       "      <th>2</th>\n",
       "      <td>1</td>\n",
       "      <td>2018-07-23 06:00:48</td>\n",
       "      <td>572</td>\n",
       "      <td>Smolki</td>\n",
       "      <td>11</td>\n",
       "      <td>Czerwone Maki P+R</td>\n",
       "      <td>2018-07-23 06:00:00</td>\n",
       "      <td>6.352185e+18</td>\n",
       "      <td>6351558574044670211</td>\n",
       "      <td>STOPPING</td>\n",
       "      <td>0</td>\n",
       "      <td>10.0</td>\n",
       "    </tr>\n",
       "    <tr>\n",
       "      <th>3</th>\n",
       "      <td>1</td>\n",
       "      <td>2018-07-23 06:00:49</td>\n",
       "      <td>319</td>\n",
       "      <td>Jubilat</td>\n",
       "      <td>1</td>\n",
       "      <td>Wzgórza K.</td>\n",
       "      <td>2018-07-23 05:59:00</td>\n",
       "      <td>NaN</td>\n",
       "      <td>6351558574044363010</td>\n",
       "      <td>PLANNED</td>\n",
       "      <td>1</td>\n",
       "      <td>3.0</td>\n",
       "    </tr>\n",
       "    <tr>\n",
       "      <th>4</th>\n",
       "      <td>1</td>\n",
       "      <td>2018-07-23 06:00:49</td>\n",
       "      <td>322</td>\n",
       "      <td>Filharmonia</td>\n",
       "      <td>8</td>\n",
       "      <td>Bronowice Małe</td>\n",
       "      <td>2018-07-23 06:01:00</td>\n",
       "      <td>6.352185e+18</td>\n",
       "      <td>6351558574044592386</td>\n",
       "      <td>STOPPING</td>\n",
       "      <td>0</td>\n",
       "      <td>15.0</td>\n",
       "    </tr>\n",
       "  </tbody>\n",
       "</table>\n",
       "</div>"
      ],
      "text/plain": [
       "   index           time_stamp  stop     stopName  number          direction  \\\n",
       "0      1  2018-07-23 06:00:45   378   Os.Piastów      21       Kopiec Wandy   \n",
       "1      1  2018-07-23 06:00:47   612     Borsucza      22          Walcownia   \n",
       "2      1  2018-07-23 06:00:48   572       Smolki      11  Czerwone Maki P+R   \n",
       "3      1  2018-07-23 06:00:49   319      Jubilat       1         Wzgórza K.   \n",
       "4      1  2018-07-23 06:00:49   322  Filharmonia       8     Bronowice Małe   \n",
       "\n",
       "           plannedTime     vehicleId               tripId    status  delay  \\\n",
       "0  2018-07-23 05:59:00           NaN  6351558574044883205   PLANNED      1   \n",
       "1  2018-07-23 06:00:00  6.352185e+18  6351558574044899587  STOPPING      0   \n",
       "2  2018-07-23 06:00:00  6.352185e+18  6351558574044670211  STOPPING      0   \n",
       "3  2018-07-23 05:59:00           NaN  6351558574044363010   PLANNED      1   \n",
       "4  2018-07-23 06:01:00  6.352185e+18  6351558574044592386  STOPPING      0   \n",
       "\n",
       "   seq_num  \n",
       "0      1.0  \n",
       "1      7.0  \n",
       "2     10.0  \n",
       "3      3.0  \n",
       "4     15.0  "
      ]
     },
     "execution_count": 6,
     "metadata": {},
     "output_type": "execute_result"
    }
   ],
   "source": [
    "#Let's check how data looks like in general\n",
    "\n",
    "df.head(5)"
   ]
  },
  {
   "cell_type": "code",
   "execution_count": 7,
   "metadata": {},
   "outputs": [
    {
     "data": {
      "text/plain": [
       "Index(['index', 'time_stamp', 'stop', 'stopName', 'number', 'direction',\n",
       "       'plannedTime', 'vehicleId', 'tripId', 'status', 'delay', 'seq_num'],\n",
       "      dtype='object')"
      ]
     },
     "execution_count": 7,
     "metadata": {},
     "output_type": "execute_result"
    }
   ],
   "source": [
    "#Column names\n",
    "\n",
    "df.columns"
   ]
  },
  {
   "cell_type": "code",
   "execution_count": 8,
   "metadata": {},
   "outputs": [
    {
     "name": "stdout",
     "output_type": "stream",
     "text": [
      "0     0.414376\n",
      "1     0.357847\n",
      "2     0.116982\n",
      "3     0.057304\n",
      "4     0.027644\n",
      "5     0.012312\n",
      "6     0.005803\n",
      "7     0.003375\n",
      "8     0.001685\n",
      "9     0.001159\n",
      "10    0.000702\n",
      "11    0.000300\n",
      "12    0.000157\n",
      "13    0.000111\n",
      "14    0.000166\n",
      "15    0.000051\n",
      "16    0.000014\n",
      "18    0.000005\n",
      "19    0.000009\n",
      "Name: delay, dtype: float64\n",
      "Maximum delay is: 19 min\n",
      "Direction with maximum delay is: Krowodrza Górka\n",
      "Maximum delay: 19 min, occured 2 times\n"
     ]
    },
    {
     "data": {
      "image/png": "[encoded data removed]",
      "text/plain": [
       "<Figure size 432x288 with 1 Axes>"
      ]
     },
     "metadata": {},
     "output_type": "display_data"
    }
   ],
   "source": [
    "#Helpful charts and maximum values\n",
    "\n",
    "sns.set()\n",
    "print(df['delay'].value_counts(normalize=True).sort_index())\n",
    "print('Maximum delay is: {} min'.format(df['delay'].max()))\n",
    "print('Direction with maximum delay is: {}'.format(df['direction'].iloc[df['delay'].idxmax()]))\n",
    "print('Maximum delay: {} min, occured {} times'.format(df['delay'].max(), np.sum(df['delay'] == df['delay'].max())))\n",
    "\n",
    "_ = sns.countplot(x='delay', data=df, palette='cubehelix')\n",
    "_ = plt.xlabel('Delays in minutes')\n",
    "_ = plt.ylabel('Counts')\n",
    "_ = plt.title('Trams delays')\n",
    "_ = plt.xlim((-0.5,7))"
   ]
  },
  {
   "cell_type": "markdown",
   "metadata": {},
   "source": [
    "##### For the apprehensive ones, trams in Krakow tend to arrive on time - approx. 40% of them aren't delayed. Regardless of this, 60% are late (luckily in majority up to 3 min)"
   ]
  },
  {
   "cell_type": "code",
   "execution_count": 9,
   "metadata": {},
   "outputs": [
    {
     "data": {
      "image/png": "[encoded data removed]",
      "text/plain": [
       "<Figure size 432x288 with 1 Axes>"
      ]
     },
     "metadata": {},
     "output_type": "display_data"
    }
   ],
   "source": [
    "#Finding out, which directions to avoid (in terms of delays)\n",
    "\n",
    "df1 = df.groupby('direction', \n",
    "                 as_index=False).agg({'delay': 'sum'}).sort_values('delay', ascending=False).head(7)\n",
    "\n",
    "_ = plt.style.use('ggplot')\n",
    "_ = plt.bar(df1.iloc[:,0], df1.iloc[:,1])\n",
    "_ = plt.xticks(rotation=60)\n",
    "_ = plt.ylabel('Sum of delays')"
   ]
  },
  {
   "cell_type": "markdown",
   "metadata": {},
   "source": [
    "#### It seems like there is one inglorious leader. As I mentioned before whole data analysis isn't main goal of this particular case, but I hope to complete it in the very near future"
   ]
  },
  {
   "cell_type": "markdown",
   "metadata": {},
   "source": [
    "## Scikit-learn approach.\n",
    "### Attempting to find out, how much will the tram be delayed (the regression problem)"
   ]
  },
  {
   "cell_type": "code",
   "execution_count": 10,
   "metadata": {},
   "outputs": [],
   "source": [
    "#Setting up seed to provide repetitive results\n",
    "\n",
    "seed = 7\n",
    "np.random.seed(seed)"
   ]
  },
  {
   "cell_type": "code",
   "execution_count": 11,
   "metadata": {},
   "outputs": [],
   "source": [
    "#Changing type of values to enamble working on numbers\n",
    "#Adding also some extra new features by combining two columns, in order to improve results (as an assumption)\n",
    "\n",
    "df['direction_cat'] = df.direction.factorize()[0]\n",
    "df['number_direction'] = df.apply(lambda x: '{} {}'.format(x['number'], x['direction']), axis=1).factorize()[0]\n",
    "df['stop_direction'] = df.apply(lambda x: '{} {}'.format(x['stop'], x['direction']), axis=1).factorize()[0]\n",
    "\n",
    "#Let's multiply delay provided in min to receive seconds for legibility\n",
    "\n",
    "df['delay_sec'] = df.delay.apply(lambda x: x*60)"
   ]
  },
  {
   "cell_type": "code",
   "execution_count": 12,
   "metadata": {},
   "outputs": [],
   "source": [
    "#Choosing propper features for the model\n",
    "\n",
    "feats = ['number', 'stop', 'direction_cat', 'vehicleId', 'seq_num', 'number_direction', 'stop_direction']\n",
    "\n",
    "X = df[feats].values\n",
    "y = df['delay_sec'].values"
   ]
  },
  {
   "cell_type": "code",
   "execution_count": 13,
   "metadata": {},
   "outputs": [
    {
     "data": {
      "text/plain": [
       "(-49.036011709444054, 2.47377324234954)"
      ]
     },
     "execution_count": 13,
     "metadata": {},
     "output_type": "execute_result"
    }
   ],
   "source": [
    "#Defining model with regression solver\n",
    "\n",
    "model = DecisionTreeRegressor(max_depth=10, random_state=42)\n",
    "\n",
    "#Defining pipeline\n",
    "\n",
    "pipeline = Pipeline([('impt', SimpleImputer(missing_values=np.nan, strategy='most_frequent')),\n",
    "                     ('scaler', StandardScaler()),\n",
    "                     ('model', model)])\n",
    "\n",
    "params_grid = {'model__max_depth': np.arange(1,15)}\n",
    "\n",
    "#Exhaustive search over specified parameter values for an estimator\n",
    "\n",
    "cv = GridSearchCV(pipeline, params_grid, cv=3)\n",
    "\n",
    "scores = cross_val_score(cv, X, y, cv=5, scoring='neg_mean_absolute_error')\n",
    "np.mean(scores), np.std(scores)"
   ]
  },
  {
   "cell_type": "markdown",
   "metadata": {},
   "source": [
    "#### The received result would be decreased probably for about 1 sec, applying different solution manners"
   ]
  },
  {
   "cell_type": "markdown",
   "metadata": {},
   "source": [
    "## Scikit-learn approach. \n",
    "### Considering whether delay will occur at all (the classification problem)"
   ]
  },
  {
   "cell_type": "code",
   "execution_count": 14,
   "metadata": {},
   "outputs": [
    {
     "data": {
      "text/plain": [
       "1    0.585624\n",
       "0    0.414376\n",
       "Name: Delay_or_not, dtype: float64"
      ]
     },
     "execution_count": 14,
     "metadata": {},
     "output_type": "execute_result"
    }
   ],
   "source": [
    "#Defining function, that changes values respectively to 0 or 1. That changes regression problem to classification one\n",
    "\n",
    "def change_to_zero(row):\n",
    "    \"\"\"Changes to 1 when delay occurs and when it doesn't, to 0\"\"\"\n",
    "    if row != 0:\n",
    "        return 1\n",
    "    else:\n",
    "        return 0\n",
    "\n",
    "#Creating new column\n",
    "\n",
    "df['Delay_or_not'] = df.delay.apply(change_to_zero)\n",
    "df.Delay_or_not.value_counts(normalize=True)"
   ]
  },
  {
   "cell_type": "code",
   "execution_count": 15,
   "metadata": {},
   "outputs": [
    {
     "data": {
      "text/html": [
       "<div>\n",
       "<style scoped>\n",
       "    .dataframe tbody tr th:only-of-type {\n",
       "        vertical-align: middle;\n",
       "    }\n",
       "\n",
       "    .dataframe tbody tr th {\n",
       "        vertical-align: top;\n",
       "    }\n",
       "\n",
       "    .dataframe thead th {\n",
       "        text-align: right;\n",
       "    }\n",
       "</style>\n",
       "<table border=\"1\" class=\"dataframe\">\n",
       "  <thead>\n",
       "    <tr style=\"text-align: right;\">\n",
       "      <th></th>\n",
       "      <th>index</th>\n",
       "      <th>time_stamp</th>\n",
       "      <th>stop</th>\n",
       "      <th>stopName</th>\n",
       "      <th>number</th>\n",
       "      <th>direction</th>\n",
       "      <th>plannedTime</th>\n",
       "      <th>vehicleId</th>\n",
       "      <th>tripId</th>\n",
       "      <th>status</th>\n",
       "      <th>delay</th>\n",
       "      <th>seq_num</th>\n",
       "      <th>direction_cat</th>\n",
       "      <th>number_direction</th>\n",
       "      <th>stop_direction</th>\n",
       "      <th>delay_sec</th>\n",
       "      <th>Delay_or_not</th>\n",
       "    </tr>\n",
       "  </thead>\n",
       "  <tbody>\n",
       "    <tr>\n",
       "      <th>0</th>\n",
       "      <td>1</td>\n",
       "      <td>2018-07-23 06:00:45</td>\n",
       "      <td>378</td>\n",
       "      <td>Os.Piastów</td>\n",
       "      <td>21</td>\n",
       "      <td>Kopiec Wandy</td>\n",
       "      <td>2018-07-23 05:59:00</td>\n",
       "      <td>NaN</td>\n",
       "      <td>6351558574044883205</td>\n",
       "      <td>PLANNED</td>\n",
       "      <td>1</td>\n",
       "      <td>1.0</td>\n",
       "      <td>0</td>\n",
       "      <td>0</td>\n",
       "      <td>0</td>\n",
       "      <td>60</td>\n",
       "      <td>1</td>\n",
       "    </tr>\n",
       "    <tr>\n",
       "      <th>1</th>\n",
       "      <td>1</td>\n",
       "      <td>2018-07-23 06:00:47</td>\n",
       "      <td>612</td>\n",
       "      <td>Borsucza</td>\n",
       "      <td>22</td>\n",
       "      <td>Walcownia</td>\n",
       "      <td>2018-07-23 06:00:00</td>\n",
       "      <td>6.352185e+18</td>\n",
       "      <td>6351558574044899587</td>\n",
       "      <td>STOPPING</td>\n",
       "      <td>0</td>\n",
       "      <td>7.0</td>\n",
       "      <td>1</td>\n",
       "      <td>1</td>\n",
       "      <td>1</td>\n",
       "      <td>0</td>\n",
       "      <td>0</td>\n",
       "    </tr>\n",
       "    <tr>\n",
       "      <th>2</th>\n",
       "      <td>1</td>\n",
       "      <td>2018-07-23 06:00:48</td>\n",
       "      <td>572</td>\n",
       "      <td>Smolki</td>\n",
       "      <td>11</td>\n",
       "      <td>Czerwone Maki P+R</td>\n",
       "      <td>2018-07-23 06:00:00</td>\n",
       "      <td>6.352185e+18</td>\n",
       "      <td>6351558574044670211</td>\n",
       "      <td>STOPPING</td>\n",
       "      <td>0</td>\n",
       "      <td>10.0</td>\n",
       "      <td>2</td>\n",
       "      <td>2</td>\n",
       "      <td>2</td>\n",
       "      <td>0</td>\n",
       "      <td>0</td>\n",
       "    </tr>\n",
       "    <tr>\n",
       "      <th>3</th>\n",
       "      <td>1</td>\n",
       "      <td>2018-07-23 06:00:49</td>\n",
       "      <td>319</td>\n",
       "      <td>Jubilat</td>\n",
       "      <td>1</td>\n",
       "      <td>Wzgórza K.</td>\n",
       "      <td>2018-07-23 05:59:00</td>\n",
       "      <td>NaN</td>\n",
       "      <td>6351558574044363010</td>\n",
       "      <td>PLANNED</td>\n",
       "      <td>1</td>\n",
       "      <td>3.0</td>\n",
       "      <td>3</td>\n",
       "      <td>3</td>\n",
       "      <td>3</td>\n",
       "      <td>60</td>\n",
       "      <td>1</td>\n",
       "    </tr>\n",
       "    <tr>\n",
       "      <th>4</th>\n",
       "      <td>1</td>\n",
       "      <td>2018-07-23 06:00:49</td>\n",
       "      <td>322</td>\n",
       "      <td>Filharmonia</td>\n",
       "      <td>8</td>\n",
       "      <td>Bronowice Małe</td>\n",
       "      <td>2018-07-23 06:01:00</td>\n",
       "      <td>6.352185e+18</td>\n",
       "      <td>6351558574044592386</td>\n",
       "      <td>STOPPING</td>\n",
       "      <td>0</td>\n",
       "      <td>15.0</td>\n",
       "      <td>4</td>\n",
       "      <td>4</td>\n",
       "      <td>4</td>\n",
       "      <td>0</td>\n",
       "      <td>0</td>\n",
       "    </tr>\n",
       "  </tbody>\n",
       "</table>\n",
       "</div>"
      ],
      "text/plain": [
       "   index           time_stamp  stop     stopName  number          direction  \\\n",
       "0      1  2018-07-23 06:00:45   378   Os.Piastów      21       Kopiec Wandy   \n",
       "1      1  2018-07-23 06:00:47   612     Borsucza      22          Walcownia   \n",
       "2      1  2018-07-23 06:00:48   572       Smolki      11  Czerwone Maki P+R   \n",
       "3      1  2018-07-23 06:00:49   319      Jubilat       1         Wzgórza K.   \n",
       "4      1  2018-07-23 06:00:49   322  Filharmonia       8     Bronowice Małe   \n",
       "\n",
       "           plannedTime     vehicleId               tripId    status  delay  \\\n",
       "0  2018-07-23 05:59:00           NaN  6351558574044883205   PLANNED      1   \n",
       "1  2018-07-23 06:00:00  6.352185e+18  6351558574044899587  STOPPING      0   \n",
       "2  2018-07-23 06:00:00  6.352185e+18  6351558574044670211  STOPPING      0   \n",
       "3  2018-07-23 05:59:00           NaN  6351558574044363010   PLANNED      1   \n",
       "4  2018-07-23 06:01:00  6.352185e+18  6351558574044592386  STOPPING      0   \n",
       "\n",
       "   seq_num  direction_cat  number_direction  stop_direction  delay_sec  \\\n",
       "0      1.0              0                 0               0         60   \n",
       "1      7.0              1                 1               1          0   \n",
       "2     10.0              2                 2               2          0   \n",
       "3      3.0              3                 3               3         60   \n",
       "4     15.0              4                 4               4          0   \n",
       "\n",
       "   Delay_or_not  \n",
       "0             1  \n",
       "1             0  \n",
       "2             0  \n",
       "3             1  \n",
       "4             0  "
      ]
     },
     "execution_count": 15,
     "metadata": {},
     "output_type": "execute_result"
    }
   ],
   "source": [
    "df.head(5)"
   ]
  },
  {
   "cell_type": "code",
   "execution_count": 16,
   "metadata": {},
   "outputs": [],
   "source": [
    "#Dividing data into numeric and text by defining proper lists comprehensions\n",
    "\n",
    "LABELS = ['stopName', 'direction', 'status', 'plannedTime', 'time_stamp']\n",
    "NUMBERS = [n for n in df.columns if n not in LABELS]\n",
    "NUMBERS_NO_TARGET = [n for n in NUMBERS if n != 'Delay_or_not' ]\n",
    "TO_TRAIN = [n for n in df.columns if n != 'Delay_or_not']\n",
    "target = df['Delay_or_not']"
   ]
  },
  {
   "cell_type": "code",
   "execution_count": 17,
   "metadata": {},
   "outputs": [
    {
     "data": {
      "text/plain": [
       "index                 int64\n",
       "time_stamp           object\n",
       "stop                  int64\n",
       "stopName             object\n",
       "number                int64\n",
       "direction            object\n",
       "plannedTime          object\n",
       "vehicleId           float64\n",
       "tripId                int64\n",
       "status               object\n",
       "delay                 int64\n",
       "seq_num             float64\n",
       "direction_cat         int64\n",
       "number_direction      int64\n",
       "stop_direction        int64\n",
       "delay_sec             int64\n",
       "Delay_or_not          int64\n",
       "dtype: object"
      ]
     },
     "execution_count": 17,
     "metadata": {},
     "output_type": "execute_result"
    }
   ],
   "source": [
    "df.dtypes"
   ]
  },
  {
   "cell_type": "markdown",
   "metadata": {},
   "source": [
    "#### To grasp NLP a little, now I define function that merges text columns to empower my model executing function called CountVectorizer()"
   ]
  },
  {
   "cell_type": "code",
   "execution_count": 18,
   "metadata": {},
   "outputs": [],
   "source": [
    "#Defining function, that merges text columns\n",
    "\n",
    "def combine_obj_col(data_frame, to_drop = NUMBERS):\n",
    "    \"\"\" Merging text columns. Numeric columns are being dropped \"\"\"\n",
    "    \n",
    "    to_drop = set(to_drop) & set(data_frame.columns.tolist())\n",
    "    data_to_drop = data_frame.drop(to_drop, axis=1)\n",
    "    data_to_drop.fillna(\"\", inplace=True)\n",
    "    \n",
    "    return data_to_drop.apply(lambda x: \" \".join(x), axis=1)\n",
    "\n",
    "#Defining functions that retreive values respectively with text, or numbers\n",
    "\n",
    "get_object_data = FunctionTransformer(combine_obj_col, validate=False)\n",
    "get_numeric_data = FunctionTransformer(lambda x: x[NUMBERS_NO_TARGET], validate=False)"
   ]
  },
  {
   "cell_type": "code",
   "execution_count": 19,
   "metadata": {},
   "outputs": [],
   "source": [
    "#Preparing pipeline with FeatureUnion\n",
    "\n",
    "numeric_pipeline = Pipeline([('select1', get_numeric_data),\n",
    "                            ('imput', SimpleImputer(missing_values=np.nan, strategy='most_frequent'))])\n",
    "\n",
    "text_pipeline = Pipeline([('select2', get_object_data),\n",
    "                            ('vectorizer', CountVectorizer())])\n",
    "\n",
    "main_pipeline = Pipeline([('union', FeatureUnion([\n",
    "                            ('numeric', numeric_pipeline),\n",
    "                            ('text', text_pipeline)])),\n",
    "                          ('knn', KNeighborsClassifier())])"
   ]
  },
  {
   "cell_type": "code",
   "execution_count": 20,
   "metadata": {},
   "outputs": [],
   "source": [
    "#Spliting up data to train and test set\n",
    "\n",
    "X_train, X_test, y_train, y_test = train_test_split(df[TO_TRAIN], pd.get_dummies(target) , \n",
    "                                                    test_size=0.3, random_state=42)"
   ]
  },
  {
   "cell_type": "code",
   "execution_count": 21,
   "metadata": {
    "scrolled": true
   },
   "outputs": [
    {
     "name": "stdout",
     "output_type": "stream",
     "text": [
      "Score: 0.5438024159421405\n"
     ]
    }
   ],
   "source": [
    "#Results\n",
    "\n",
    "main_pipeline.fit(X_train, y_train)\n",
    "y_pred = main_pipeline.predict(X_test)\n",
    "score = accuracy_score(y_test, y_pred)\n",
    "\n",
    "print('Score: {}'.format(score))"
   ]
  },
  {
   "cell_type": "markdown",
   "metadata": {},
   "source": [
    "#### The final score still can be improved, applying different optimizing solution"
   ]
  },
  {
   "cell_type": "markdown",
   "metadata": {},
   "source": [
    "## Keras approach"
   ]
  },
  {
   "cell_type": "markdown",
   "metadata": {},
   "source": [
    "### Still searching for the answer, whether tram will be late "
   ]
  },
  {
   "cell_type": "code",
   "execution_count": 62,
   "metadata": {},
   "outputs": [
    {
     "data": {
      "text/plain": [
       "(216615, 17)"
      ]
     },
     "execution_count": 62,
     "metadata": {},
     "output_type": "execute_result"
    }
   ],
   "source": [
    "#Preparing data to predict\n",
    "\n",
    "data_to_pred = df[NUMBERS].tail(16500).fillna(-1000).values\n",
    "data_to_pred.shape\n",
    "df.shape"
   ]
  },
  {
   "cell_type": "code",
   "execution_count": 63,
   "metadata": {},
   "outputs": [],
   "source": [
    "#Splitting up data\n",
    "\n",
    "predictors = df[NUMBERS].head(150000).fillna(-1000).values\n",
    "trget_value = to_categorical(df['Delay_or_not'].head(150000))\n",
    "\n",
    "n_cols = predictors.shape[1]"
   ]
  },
  {
   "cell_type": "code",
   "execution_count": 64,
   "metadata": {},
   "outputs": [],
   "source": [
    "#Ensuring, the model stops validating, if there is no improvement in two recent epochs\n",
    "\n",
    "early_stop = EarlyStopping(patience=3)"
   ]
  },
  {
   "cell_type": "code",
   "execution_count": 70,
   "metadata": {},
   "outputs": [
    {
     "name": "stdout",
     "output_type": "stream",
     "text": [
      "Train on 120000 samples, validate on 30000 samples\n",
      "Epoch 1/15\n",
      " - 6s - loss: 0.6191 - acc: 0.5672 - val_loss: 0.6144 - val_acc: 0.5800\n",
      "Epoch 2/15\n",
      " - 5s - loss: 0.6158 - acc: 0.5719 - val_loss: 0.6152 - val_acc: 0.5800\n",
      "Epoch 3/15\n",
      " - 5s - loss: 0.6153 - acc: 0.5719 - val_loss: 0.6146 - val_acc: 0.5800\n",
      "Epoch 4/15\n",
      " - 6s - loss: 0.6153 - acc: 0.5739 - val_loss: 0.6143 - val_acc: 0.5800\n",
      "Epoch 5/15\n",
      " - 6s - loss: 0.6153 - acc: 0.5743 - val_loss: 0.6142 - val_acc: 0.5800\n",
      "Epoch 6/15\n",
      " - 6s - loss: 0.6150 - acc: 0.5746 - val_loss: 0.6142 - val_acc: 0.5800\n",
      "Epoch 7/15\n",
      " - 6s - loss: 0.6152 - acc: 0.5739 - val_loss: 0.6151 - val_acc: 0.5800\n",
      "Epoch 8/15\n",
      " - 6s - loss: 0.6152 - acc: 0.5738 - val_loss: 0.6142 - val_acc: 0.5800\n"
     ]
    }
   ],
   "source": [
    "#Spliting up data to train and test set\n",
    "\n",
    "X_train_k, X_test_k, y_train_k, y_test_k = train_test_split(predictors, trget_value, test_size=0.2, random_state=42)\n",
    "\n",
    "#Building our model\n",
    "\n",
    "model = Sequential()\n",
    "model.add(Dense(100, activation = 'sigmoid', input_shape=(n_cols,)))\n",
    "model.add(Dense(100, activation = 'sigmoid'))\n",
    "model.add(Dense(2, activation = 'softmax'))\n",
    "\n",
    "model.compile(optimizer= 'adam', loss= 'categorical_crossentropy', metrics=['accuracy'])\n",
    "model_training = model.fit(X_train_k, y_train_k, validation_data=(X_test_k,y_test_k), epochs=15, verbose=2, callbacks=[early_stop])"
   ]
  },
  {
   "cell_type": "code",
   "execution_count": 74,
   "metadata": {},
   "outputs": [
    {
     "name": "stdout",
     "output_type": "stream",
     "text": [
      "[0.6142359520276387, 0.5799666666666666]\n"
     ]
    }
   ],
   "source": [
    "#Score\n",
    "\n",
    "predictions = model.predict_proba(data_to_pred)\n",
    "score = model.evaluate(X_test_k, y_test_k, verbose=0)\n",
    "print(score)"
   ]
  },
  {
   "cell_type": "code",
   "execution_count": 71,
   "metadata": {},
   "outputs": [
    {
     "name": "stdout",
     "output_type": "stream",
     "text": [
      "dict_keys(['val_loss', 'val_acc', 'loss', 'acc'])\n"
     ]
    },
    {
     "data": {
      "image/png": "[encoded data removed]",
      "text/plain": [
       "<Figure size 432x288 with 1 Axes>"
      ]
     },
     "metadata": {},
     "output_type": "display_data"
    }
   ],
   "source": [
    "print(model_training.history.keys())\n",
    "\n",
    "#Summarize history for the accuracy\n",
    "\n",
    "_ = plt.plot(model_training.history['acc'])\n",
    "_ = plt.plot(model_training.history['val_acc'])\n",
    "_ = plt.title('model accuracy')\n",
    "_ = plt.ylabel('accuracy')\n",
    "_ = plt.xlabel('epoch')\n",
    "_ = plt.legend(['train', 'test'], loc='best')"
   ]
  },
  {
   "cell_type": "code",
   "execution_count": 72,
   "metadata": {},
   "outputs": [
    {
     "data": {
      "image/png": "[encoded data removed]",
      "text/plain": [
       "<Figure size 432x288 with 1 Axes>"
      ]
     },
     "metadata": {},
     "output_type": "display_data"
    }
   ],
   "source": [
    "#Summarize history for the loss\n",
    "\n",
    "_ = plt.plot(model_training.history['loss'])\n",
    "_ = plt.plot(model_training.history['val_loss'])\n",
    "_ = plt.title('model loss')\n",
    "_ = plt.ylabel('loss')\n",
    "_ = plt.xlabel('epoch')\n",
    "_ = plt.legend(['train', 'test'], loc='best')"
   ]
  },
  {
   "cell_type": "markdown",
   "metadata": {},
   "source": [
    "### Final thoughts"
   ]
  },
  {
   "cell_type": "markdown",
   "metadata": {},
   "source": [
    "#### Two different approaches to the classification problem, and one to regression models were presented above. Still, there can be applied various solutions using more or less complex optimization manners. Regardless of this fact, I hope the analysis brings closer and briefly clarifies the issue, so that it is no longer vague."
   ]
  }
 ],
 "metadata": {
  "kernelspec": {
   "display_name": "Python 3",
   "language": "python",
   "name": "python3"
  },
  "language_info": {
   "codemirror_mode": {
    "name": "ipython",
    "version": 3
   },
   "file_extension": ".py",
   "mimetype": "text/x-python",
   "name": "python",
   "nbconvert_exporter": "python",
   "pygments_lexer": "ipython3",
   "version": "3.6.8"
  }
 },
 "nbformat": 4,
 "nbformat_minor": 2
}
